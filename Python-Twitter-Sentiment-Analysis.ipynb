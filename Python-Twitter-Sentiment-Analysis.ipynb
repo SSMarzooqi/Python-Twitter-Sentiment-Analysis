{
 "cells": [
  {
   "cell_type": "code",
   "execution_count": 16,
   "id": "68b0df34-e622-41e8-af26-ba36eab92dfa",
   "metadata": {
    "tags": []
   },
   "outputs": [
    {
     "name": "stdout",
     "output_type": "stream",
     "text": [
      "CoinGecko API Response: {\"error\":\"Incorrect path. Please check https://www.coingecko.com/api/\"}\n",
      "No sentiment data available\n"
     ]
    }
   ],
   "source": [
    "import requests\n",
    "from textblob import TextBlob\n",
    "\n",
    "def get_media_sentiment():\n",
    "    # Fetch cryptocurrency news from CoinGecko API\n",
    "    url = 'https://api.coingecko.com/api/v3/events'\n",
    "    response = requests.get(url)\n",
    "    \n",
    "    print(\"CoinGecko API Response:\", response.text)  # Print the entire response for debugging\n",
    "    \n",
    "    sentiment_scores = []\n",
    "    if response.status_code == 200:\n",
    "        events_data = response.json()\n",
    "        for event in events_data:\n",
    "            description = event.get('description')\n",
    "            if description:\n",
    "                print(\"Event Description:\", description)  # Print event description for debugging\n",
    "                sentiment = TextBlob(description).sentiment.polarity\n",
    "                sentiment_scores.append(sentiment)\n",
    "    \n",
    "    if sentiment_scores:\n",
    "        average_sentiment = sum(sentiment_scores) / len(sentiment_scores)\n",
    "        if average_sentiment > 0.1:\n",
    "            return \"Media sentiment: Buy Crypto\"\n",
    "        elif average_sentiment < -0.1:\n",
    "            return \"Media sentiment: Sell Crypto\"\n",
    "        else:\n",
    "            return \"Media sentiment: Neutral\"\n",
    "    else:\n",
    "        return \"No sentiment data available\"\n",
    "\n",
    "if __name__ == \"__main__\":\n",
    "    print(get_media_sentiment())\n"
   ]
  },
  {
   "cell_type": "code",
   "execution_count": null,
   "id": "3f6d5b2c-eb5f-4ae8-8211-a0e7b329eae8",
   "metadata": {},
   "outputs": [],
   "source": []
  }
 ],
 "metadata": {
  "kernelspec": {
   "display_name": "Python 3 (ipykernel)",
   "language": "python",
   "name": "python3"
  },
  "language_info": {
   "codemirror_mode": {
    "name": "ipython",
    "version": 3
   },
   "file_extension": ".py",
   "mimetype": "text/x-python",
   "name": "python",
   "nbconvert_exporter": "python",
   "pygments_lexer": "ipython3",
   "version": "3.11.5"
  }
 },
 "nbformat": 4,
 "nbformat_minor": 5
}
